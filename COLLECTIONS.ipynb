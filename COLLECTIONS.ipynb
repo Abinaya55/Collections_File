{
 "cells": [
  {
   "cell_type": "markdown",
   "id": "1936d5de",
   "metadata": {},
   "source": [
    "## Collections module in python implements specialized data structures which provide\n",
    "alternative to python’s built-in container data types. \n",
    "\n",
    "Following are the specialized data structures in collections module.\n",
    "\n",
    "namedtuple()  factory function for creating tuple subclasses with named fields\n",
    "deque         list-like container with fast appends and pops on either end\n",
    "ChainMap      dict-like class for creating a single view of multiple mappings\n",
    "Counter       dict subclass for counting hashable objects\n",
    "OrderedDict   dict subclass that remembers the order entries were added\n",
    "defaultdict   dict subclass that calls a factory function to supply missing values\n",
    "UserDict      wrapper around dictionary objects for easier dict subclassing\n",
    "UserList      wrapper around list objects for easier list subclassing\n",
    "UserString    wrapper around string objects for easier string subclassing\n",
    "\n",
    "\n",
    "\n"
   ]
  },
  {
   "cell_type": "markdown",
   "id": "eb97a6ad",
   "metadata": {},
   "source": [
    "### It returns a tuple with a named entry, which means there will be a name assigned to each value in the tuple. \n",
    "### It overcomes the problem of accessing the elements using the index values. \n",
    "### With namedtuple( ) it becomes easier to access these values, since you do not have to \n",
    "remember the index values to get specific elements."
   ]
  },
  {
   "cell_type": "code",
   "execution_count": 6,
   "id": "f92d98af",
   "metadata": {},
   "outputs": [
    {
     "name": "stdout",
     "output_type": "stream",
     "text": [
      "courses(name='data science', tech='python', Most_used='Java')\n"
     ]
    }
   ],
   "source": [
    "from collections import namedtuple\n",
    "a = namedtuple('courses' , 'name , tech, Most_used')\n",
    "s = a('data science' , 'python','Java')\n",
    "print(s)\n"
   ]
  },
  {
   "cell_type": "markdown",
   "id": "293e8f86",
   "metadata": {},
   "source": [
    "## Advantages\n",
    "    Immutable: I needed objects that would never be altered.\n",
    "    Identifiers: I needed objects whose attributes were simple to access.\n",
    "    Reusable: It had to be something others on my team could quickly re-use and understand at a glance."
   ]
  },
  {
   "cell_type": "markdown",
   "id": "d5e9dcfd",
   "metadata": {},
   "source": [
    "## deque()\n",
    "\n",
    "deque pronounced as ‘deck’ is an optimized list to perform insertion and deletion easily.\n",
    "\n",
    " \n"
   ]
  },
  {
   "cell_type": "code",
   "execution_count": 7,
   "id": "7dca1c99",
   "metadata": {},
   "outputs": [
    {
     "name": "stdout",
     "output_type": "stream",
     "text": [
      "deque(['e', 'l', 'c', 'o', 'm'])\n"
     ]
    }
   ],
   "source": [
    "from collections import deque\n",
    "a = ['e' , 'l' , 'c' , 'o', 'm']\n",
    "a1 = deque(a)\n",
    "print(a1)\n",
    "\n"
   ]
  },
  {
   "cell_type": "code",
   "execution_count": 8,
   "id": "3a23d50c",
   "metadata": {},
   "outputs": [
    {
     "name": "stdout",
     "output_type": "stream",
     "text": [
      "deque(['e', 'l', 'c', 'o', 'm', 'e'])\n",
      "deque(['w', 'e', 'l', 'c', 'o', 'm', 'e'])\n"
     ]
    }
   ],
   "source": [
    "a1.append('e')                      # add a new entry to the right side\n",
    "print(a1)\n",
    "\n",
    "a1.appendleft('w')                  # add a new entry to the left side\n",
    "print(a1)"
   ]
  },
  {
   "cell_type": "code",
   "execution_count": 9,
   "id": "1b37f9ff",
   "metadata": {},
   "outputs": [
    {
     "name": "stdout",
     "output_type": "stream",
     "text": [
      "['w', 'e', 'l', 'c', 'o', 'm', 'e']\n",
      "('w', 'e', 'l', 'c', 'o', 'm', 'e')\n"
     ]
    }
   ],
   "source": [
    "print(list(a1))             # list the contents of the deque\n",
    "\n",
    "print(tuple(a1))            # Convert to tuple\n",
    "\n"
   ]
  },
  {
   "cell_type": "code",
   "execution_count": 10,
   "id": "89e0b988",
   "metadata": {},
   "outputs": [
    {
     "name": "stdout",
     "output_type": "stream",
     "text": [
      "deque(['w', 'e', 'l', 'c', 'o', 'm', 'e'])\n",
      "deque(['w', 'e', 'l', 'c', 'o', 'm', 'e', 'p', 'i', 'o', 'q'])\n",
      "deque(['c', 'b', 'a', 'w', 'e', 'l', 'c', 'o', 'm', 'e', 'p', 'i', 'o', 'q'])\n"
     ]
    }
   ],
   "source": [
    "a3 = a1.copy()              # Copying the elements\n",
    "print(a3)\n",
    "\n",
    "a3.extend('pioq')           # add multiple elements at once\n",
    "print(a3)\n",
    "\n",
    "a3.extendleft('abc')        # extendleft() reverses the input order\n",
    "print(a3)\n",
    "\n"
   ]
  },
  {
   "cell_type": "code",
   "execution_count": 21,
   "id": "b0cafba3",
   "metadata": {},
   "outputs": [
    {
     "name": "stdout",
     "output_type": "stream",
     "text": [
      "deque(['p', 'e', 'm', 'o', 'c', 'l', 'e', 'w', 'a', 'b', 'c', 'q', 'o', 'i'])\n",
      "deque(['o', 'q', 'c', 'b', 'a', 'w', 'e', 'l', 'c', 'o', 'm', 'e', 'p', 'i'])\n",
      "deque(['o', 'm', 'e', 'p', 'i', 'o', 'q', 'c', 'b', 'a', 'w', 'e', 'l', 'c'])\n"
     ]
    }
   ],
   "source": [
    "print(deque(reversed(a3)))  # reverse the elements\n",
    "\n",
    "a3.rotate(-1)               # right rotation\n",
    "print(a3)\n",
    "\n",
    "a3.rotate(5)     # left rotation\n",
    "print(a3)\n",
    "\n",
    "\n"
   ]
  },
  {
   "cell_type": "code",
   "execution_count": 24,
   "id": "756c48ae",
   "metadata": {},
   "outputs": [
    {
     "data": {
      "text/plain": [
       "True"
      ]
     },
     "execution_count": 24,
     "metadata": {},
     "output_type": "execute_result"
    }
   ],
   "source": [
    "'m' in a3                  # search the deque"
   ]
  },
  {
   "cell_type": "markdown",
   "id": "b772a809",
   "metadata": {},
   "source": [
    "## ChainMap()\n",
    "ChainMap\n",
    "\n",
    "It is a dictionary like class which is able to make a single view of multiple mappings. \n",
    "It basically returns a list of several other dictionaries. Suppose you have two dictionaries\n",
    "with several key value pairs, in this case ChainMap will make a single list with both the dictionaries in it."
   ]
  },
  {
   "cell_type": "code",
   "execution_count": 26,
   "id": "d055a8e5",
   "metadata": {},
   "outputs": [
    {
     "name": "stdout",
     "output_type": "stream",
     "text": [
      "ChainMap({1: 'aitutorial', 2: 'python'}, {3: 'data science', 4: 'Machine learning'})\n"
     ]
    }
   ],
   "source": [
    "from collections import ChainMap\n",
    "a = { 1: 'aitutorial' , 2: 'python'}\n",
    "b = {3: 'data science' , 4: 'Machine learning'}\n",
    "c = ChainMap(a,b)\n",
    "print(c)"
   ]
  },
  {
   "cell_type": "code",
   "execution_count": 27,
   "id": "6ff88605",
   "metadata": {},
   "outputs": [
    {
     "name": "stdout",
     "output_type": "stream",
     "text": [
      "ChainMap({5: 'AI', 6: 'neural networks'}, {1: 'aitutorial', 2: 'python'}, {3: 'data science', 4: 'Machine learning'})\n"
     ]
    }
   ],
   "source": [
    "# new_child() :- This function adds a new dictionary in the beginning of the ChainMap.\n",
    "a1 = { 5: 'AI' , 6: 'neural networks'}\n",
    "c1 = c.new_child(a1)\n",
    "print(c1)"
   ]
  },
  {
   "cell_type": "code",
   "execution_count": 28,
   "id": "907558dd",
   "metadata": {},
   "outputs": [
    {
     "name": "stdout",
     "output_type": "stream",
     "text": [
      "KeysView(ChainMap({5: 'AI', 6: 'neural networks'}, {1: 'aitutorial', 2: 'python'}, {3: 'data science', 4: 'Machine learning'}))\n"
     ]
    }
   ],
   "source": [
    "# printing keys\n",
    "\n",
    "print(c1.keys())  "
   ]
  },
  {
   "cell_type": "code",
   "execution_count": 29,
   "id": "1089f65c",
   "metadata": {},
   "outputs": [
    {
     "name": "stdout",
     "output_type": "stream",
     "text": [
      "[3, 4, 1, 2, 5, 6]\n"
     ]
    }
   ],
   "source": [
    "# printing keys as list\n",
    "\n",
    "print(list(c1.keys()))"
   ]
  },
  {
   "cell_type": "code",
   "execution_count": 30,
   "id": "22a6c4c7",
   "metadata": {},
   "outputs": [
    {
     "name": "stdout",
     "output_type": "stream",
     "text": [
      "['data science', 'Machine learning', 'aitutorial', 'python', 'AI', 'neural networks']\n"
     ]
    }
   ],
   "source": [
    "# printing values as list\n",
    "\n",
    "print(list(c1.values()))"
   ]
  },
  {
   "cell_type": "markdown",
   "id": "51cadc65",
   "metadata": {},
   "source": [
    "### Note : If key name exists in both dictionaries, only first dictionary key is taken as key value of “b”. "
   ]
  },
  {
   "cell_type": "code",
   "execution_count": 31,
   "id": "1a5f8d95",
   "metadata": {},
   "outputs": [
    {
     "name": "stdout",
     "output_type": "stream",
     "text": [
      "ChainMap({3: 'data science', 4: 'Machine learning'}, {1: 'aitutorial', 2: 'python'})\n"
     ]
    }
   ],
   "source": [
    "from collections import ChainMap\n",
    "a = { 1: 'aitutorial' , 2: 'python'}\n",
    "b = {3: 'data science' , 4: 'Machine learning'}\n",
    "c = ChainMap(b,a)\n",
    "print(c)"
   ]
  },
  {
   "cell_type": "code",
   "execution_count": 32,
   "id": "477f6ecd",
   "metadata": {},
   "outputs": [
    {
     "name": "stdout",
     "output_type": "stream",
     "text": [
      "{3: 'data science', 4: 'Machine learning'}\n"
     ]
    }
   ],
   "source": [
    "print(c.maps[0])              # current context dictionary"
   ]
  },
  {
   "cell_type": "code",
   "execution_count": 33,
   "id": "8a084b01",
   "metadata": {},
   "outputs": [
    {
     "name": "stdout",
     "output_type": "stream",
     "text": [
      "{1: 'aitutorial', 2: 'python'}\n"
     ]
    }
   ],
   "source": [
    "print(c.maps[-1])             # displays root context"
   ]
  },
  {
   "cell_type": "code",
   "execution_count": 34,
   "id": "ea13da99",
   "metadata": {},
   "outputs": [
    {
     "name": "stdout",
     "output_type": "stream",
     "text": [
      "ChainMap({3: 'data', 4: 'Machine learning'}, {1: 'aitutorial', 2: 'python'})\n"
     ]
    }
   ],
   "source": [
    "c[3]='data'                  # Set value in current context\n",
    "print(c)"
   ]
  },
  {
   "cell_type": "code",
   "execution_count": 35,
   "id": "f4e54fcc",
   "metadata": {},
   "outputs": [
    {
     "name": "stdout",
     "output_type": "stream",
     "text": [
      "ChainMap({4: 'Machine learning'}, {1: 'aitutorial', 2: 'python'})\n"
     ]
    }
   ],
   "source": [
    "del c[3]                     # deleting the current context\n",
    "print(c)"
   ]
  },
  {
   "cell_type": "code",
   "execution_count": 36,
   "id": "b6644b1b",
   "metadata": {},
   "outputs": [
    {
     "data": {
      "text/plain": [
       "False"
      ]
     },
     "execution_count": 36,
     "metadata": {},
     "output_type": "execute_result"
    }
   ],
   "source": [
    "3 in c "
   ]
  },
  {
   "cell_type": "markdown",
   "id": "bd462d4b",
   "metadata": {},
   "source": [
    "## Counter\n",
    "\n",
    "It is a dictionary subclass which is used to count hashable objects.\n"
   ]
  },
  {
   "cell_type": "code",
   "execution_count": 37,
   "id": "a87d8290",
   "metadata": {},
   "outputs": [
    {
     "name": "stdout",
     "output_type": "stream",
     "text": [
      "Counter({1: 4, 3: 4, 4: 2, 2: 1})\n"
     ]
    }
   ],
   "source": [
    "from collections import Counter\n",
    "a = [1,1,1,1,2,3,3,4,3,3,4]\n",
    "c = Counter(a)\n",
    "print(c)"
   ]
  },
  {
   "cell_type": "code",
   "execution_count": 39,
   "id": "cdf16a9c",
   "metadata": {},
   "outputs": [
    {
     "name": "stdout",
     "output_type": "stream",
     "text": [
      "Counter() \n",
      "\n",
      "Counter({'a': 3, 'b': 1, 'i': 1, 'n': 1, 'y': 1}) \n",
      "\n",
      "Counter({'red': 4, 'blue': 2}) \n",
      "\n",
      "Counter({'dogs': 8, 'cats': 4}) \n",
      "\n"
     ]
    }
   ],
   "source": [
    "c = Counter()                           # a new, empty counter\n",
    "print(c, '\\n')\n",
    "c = Counter('abinaya')                 # a new counter from an iterable\n",
    "print(c, '\\n')\n",
    "c = Counter({'red': 4, 'blue': 2})      # a new counter from a mapping\n",
    "print(c, '\\n')\n",
    "c = Counter(cats=4, dogs=8)             # a new counter from keyword args\n",
    "print(c, '\\n')"
   ]
  },
  {
   "cell_type": "code",
   "execution_count": 42,
   "id": "d0bbdab1",
   "metadata": {},
   "outputs": [
    {
     "name": "stdout",
     "output_type": "stream",
     "text": [
      "0\n",
      "0\n",
      "Counter({1: 4, 3: 4, 4: 2, 2: 1})\n"
     ]
    }
   ],
   "source": [
    "print(c['cats'])\n",
    "\n",
    "print(c['mouse'])                    #count of a missing element is zero\n",
    "\n",
    "del c['cats']\n",
    "print(c)\n",
    "\n",
    "\n",
    "\n",
    "\n"
   ]
  },
  {
   "cell_type": "code",
   "execution_count": 41,
   "id": "05ea9349",
   "metadata": {},
   "outputs": [
    {
     "name": "stdout",
     "output_type": "stream",
     "text": [
      "[1, 1, 1, 1, 2, 3, 3, 3, 3, 4, 4]\n"
     ]
    }
   ],
   "source": [
    "#sorting\n",
    "\n",
    "a = [1,1,1,1,2,3,3,4,3,3,4]\n",
    "c = Counter(a)\n",
    "\n",
    "print(sorted(c.elements()))"
   ]
  },
  {
   "cell_type": "code",
   "execution_count": 43,
   "id": "1d86442a",
   "metadata": {},
   "outputs": [
    {
     "name": "stdout",
     "output_type": "stream",
     "text": [
      "[(1, 4), (2, 1), (3, 4), (4, 2)]\n"
     ]
    }
   ],
   "source": [
    "#most_common\n",
    "\n",
    "a = [1,1,1,1,2,3,3,4,3,3,4]\n",
    "c = Counter(a)\n",
    "print(sorted(c.most_common()))"
   ]
  },
  {
   "cell_type": "code",
   "execution_count": 44,
   "id": "415119e5",
   "metadata": {},
   "outputs": [
    {
     "name": "stdout",
     "output_type": "stream",
     "text": [
      "Counter({'a': 3, 'b': 0, 'c': -3, 'd': -6})\n"
     ]
    }
   ],
   "source": [
    "#subtract\n",
    "\n",
    "c = Counter(a=4, b=2, c=0, d=-2)\n",
    "d = Counter(a=1, b=2, c=3, d= 4)\n",
    "c.subtract(d)\n",
    "print(c)"
   ]
  },
  {
   "cell_type": "code",
   "execution_count": 50,
   "id": "06c2f584",
   "metadata": {},
   "outputs": [
    {
     "name": "stdout",
     "output_type": "stream",
     "text": [
      "Counter({1: 4, 3: 4, 4: 2, 2: 1})\n"
     ]
    },
    {
     "data": {
      "text/plain": [
       "11"
      ]
     },
     "execution_count": 50,
     "metadata": {},
     "output_type": "execute_result"
    }
   ],
   "source": [
    "#sum - total of all counts\n",
    "a = [1,1,1,1,2,3,3,4,3,3,4]\n",
    "c = Counter(a)\n",
    "print(c)\n",
    "sum(c.values())"
   ]
  },
  {
   "cell_type": "code",
   "execution_count": 53,
   "id": "4715d978",
   "metadata": {},
   "outputs": [
    {
     "name": "stdout",
     "output_type": "stream",
     "text": [
      "[1, 2, 3, 4]\n"
     ]
    }
   ],
   "source": [
    "# unique value from counter\n",
    "print(list(c))\n"
   ]
  },
  {
   "cell_type": "code",
   "execution_count": 54,
   "id": "47863610",
   "metadata": {},
   "outputs": [
    {
     "name": "stdout",
     "output_type": "stream",
     "text": [
      "(1, 2, 3, 4)\n"
     ]
    }
   ],
   "source": [
    "print(tuple(c))"
   ]
  },
  {
   "cell_type": "code",
   "execution_count": 55,
   "id": "abd41cc6",
   "metadata": {},
   "outputs": [
    {
     "name": "stdout",
     "output_type": "stream",
     "text": [
      "{1, 2, 3, 4}\n"
     ]
    }
   ],
   "source": [
    "print(set(c))"
   ]
  },
  {
   "cell_type": "code",
   "execution_count": 56,
   "id": "0aaf1f40",
   "metadata": {},
   "outputs": [
    {
     "name": "stdout",
     "output_type": "stream",
     "text": [
      "{1: 4, 2: 1, 3: 4, 4: 2}\n"
     ]
    }
   ],
   "source": [
    "print(dict(c))"
   ]
  },
  {
   "cell_type": "code",
   "execution_count": 57,
   "id": "e5326575",
   "metadata": {},
   "outputs": [
    {
     "name": "stdout",
     "output_type": "stream",
     "text": [
      "dict_items([(1, 4), (2, 1), (3, 4), (4, 2)])\n"
     ]
    },
    {
     "data": {
      "text/plain": [
       "Counter({1: 4, 2: 1, 3: 4, 4: 2})"
      ]
     },
     "execution_count": 57,
     "metadata": {},
     "output_type": "execute_result"
    }
   ],
   "source": [
    "# convert to a list of (elem, cnt) pairs\n",
    "\n",
    "print(c.items())\n",
    "\n",
    "# convert from a list of (elem, cnt) pairs\n",
    "\n",
    "Counter(dict(c))\n"
   ]
  },
  {
   "cell_type": "markdown",
   "id": "26d51917",
   "metadata": {},
   "source": [
    "## OrderedDict()\n",
    "## OrderedDict\n",
    "\n",
    "## It is a dictionary subclass which remembers the order in which the entries were added. \n",
    "## Basically, even if you change the value of the key, the position will not be changed \n",
    "## because of the order in which it was inserted in the dictionary.\n"
   ]
  },
  {
   "cell_type": "code",
   "execution_count": 1,
   "id": "4e29e6d7",
   "metadata": {},
   "outputs": [
    {
     "name": "stdout",
     "output_type": "stream",
     "text": [
      "Regular dictionary:\n",
      "a A\n",
      "b B\n",
      "c C\n",
      "\n",
      "OrderedDict:\n",
      "a A\n",
      "b B\n",
      "c C\n"
     ]
    }
   ],
   "source": [
    "# Difference between Ordinary Dictionary and Ordered Dictionary\n",
    "import collections\n",
    "\n",
    "print('Regular dictionary:')\n",
    "d = {}\n",
    "d['a'] = 'A'\n",
    "d['b'] = 'B'\n",
    "d['c'] = 'C'\n",
    "\n",
    "for k, v in d.items():\n",
    "    print(k, v)\n",
    "\n",
    "print('\\nOrderedDict:')\n",
    "d = collections.OrderedDict()\n",
    "d['a'] = 'A'\n",
    "d['b'] = 'B'\n",
    "d['c'] = 'C'\n",
    "\n",
    "for k, v in d.items():\n",
    "    print(k, v)"
   ]
  },
  {
   "cell_type": "markdown",
   "id": "ad3ab454",
   "metadata": {},
   "source": [
    "#### Before python3.5\n",
    "Regular dictionary:\n",
    "c C\n",
    "b B\n",
    "a A\n",
    "OrderedDict:\n",
    "a A\n",
    "b B\n",
    "c C\n",
    "\n",
    "Under Python 3.6, the built-in dict does track insertion order, \n",
    "although this behavior is a side-effect of an implementation change and should not be relied on."
   ]
  },
  {
   "cell_type": "markdown",
   "id": "8340d15e",
   "metadata": {},
   "source": [
    "### Equality\n",
    "A regular dict looks at its contents when testing for equality. \n",
    "An OrderedDict also considers the order in which the items were added."
   ]
  },
  {
   "cell_type": "code",
   "execution_count": 9,
   "id": "c43a07ff",
   "metadata": {},
   "outputs": [
    {
     "name": "stdout",
     "output_type": "stream",
     "text": [
      "True\n",
      "OrderedDict: "
     ]
    }
   ],
   "source": [
    "d1 = collections.OrderedDict()\n",
    "d1['a'] = 'A'\n",
    "d1['b'] = 'B'\n",
    "d1['c'] = 'C'\n",
    "\n",
    "d2 = collections.OrderedDict()\n",
    "d2['a'] = 'A'\n",
    "d2['b'] = 'B'\n",
    "d2['c'] = 'C'\n",
    "\n",
    "print(d1 == d2)\n",
    "print('OrderedDict:', end=' ')"
   ]
  },
  {
   "cell_type": "code",
   "execution_count": 17,
   "id": "79ec233c",
   "metadata": {},
   "outputs": [
    {
     "name": "stdout",
     "output_type": "stream",
     "text": [
      "False\n"
     ]
    }
   ],
   "source": [
    "from collections import OrderedDict\n",
    "\n",
    "d1 = OrderedDict({'foo':123, 'bar':789,'kii':56})\n",
    "d2 = OrderedDict({'foo':123, 'bar':789,'bii':56})\n",
    "\n",
    "print(d1 == d2) # False"
   ]
  },
  {
   "cell_type": "code",
   "execution_count": 21,
   "id": "df767da0",
   "metadata": {},
   "outputs": [
    {
     "name": "stdout",
     "output_type": "stream",
     "text": [
      "False\n"
     ]
    }
   ],
   "source": [
    "\n",
    "\n",
    "d1 = dict({'foo':123, 'bar':789,'kii':56})\n",
    "d2 = dict({'foo':123, 'bar':789})\n",
    "\n",
    "print(d1 == d2) # False"
   ]
  },
  {
   "cell_type": "code",
   "execution_count": 12,
   "id": "9960625d",
   "metadata": {},
   "outputs": [
    {
     "name": "stdout",
     "output_type": "stream",
     "text": [
      "dict       : False\n"
     ]
    }
   ],
   "source": [
    "import collections\n",
    "\n",
    "print('dict       :', end=' ')\n",
    "d1 = {}\n",
    "d1['a'] = 'A'\n",
    "d1['b'] = 'B'\n",
    "d1['c'] = 'C'\n",
    "\n",
    "d2 = {}\n",
    "d2['a'] = 'a'\n",
    "d2['b'] = 'B'\n",
    "d2['c'] = 'C'\n",
    "\n",
    "print(d1 == d2)\n",
    "\n"
   ]
  },
  {
   "cell_type": "code",
   "execution_count": null,
   "id": "c4f00f06",
   "metadata": {},
   "outputs": [],
   "source": [
    "Reordering in Ordered Dictionary"
   ]
  },
  {
   "cell_type": "code",
   "execution_count": 2,
   "id": "f8c1a1db",
   "metadata": {},
   "outputs": [
    {
     "name": "stdout",
     "output_type": "stream",
     "text": [
      "Regular dictionary:\n",
      "a A\n",
      "b B\n",
      "c C\n"
     ]
    }
   ],
   "source": [
    "import collections\n",
    "\n",
    "print('Regular dictionary:')\n",
    "d = {}\n",
    "d['a'] = 'A'\n",
    "d['b'] = 'B'\n",
    "d['c'] = 'C'\n",
    "\n",
    "for k, v in d.items():\n",
    "    print(k, v)"
   ]
  },
  {
   "cell_type": "code",
   "execution_count": 22,
   "id": "bdefa7ba",
   "metadata": {},
   "outputs": [
    {
     "name": "stdout",
     "output_type": "stream",
     "text": [
      "OrderedDict([(1, 'e'), (2, 'd'), (3, 'u'), (4, 'r'), (5, 'e'), (6, 'k'), (7, 'a')])\n"
     ]
    }
   ],
   "source": [
    "from collections import OrderedDict\n",
    "od = OrderedDict()\n",
    "od[1] = 'e'\n",
    "od[2] = 'd'\n",
    "od[3] = 'u'\n",
    "od[4] = 'r'\n",
    "od[5] = 'e'\n",
    "od[6] = 'k'\n",
    "od[7] = 'a'\n",
    "print(od)"
   ]
  },
  {
   "cell_type": "code",
   "execution_count": 23,
   "id": "d7c1a4e5",
   "metadata": {},
   "outputs": [
    {
     "name": "stdout",
     "output_type": "stream",
     "text": [
      "odict_keys([1, 2, 3, 4, 5, 6, 7])\n",
      "odict_values(['e', 'd', 'u', 'r', 'e', 'k', 'a'])\n",
      "OrderedDict([(1, 'e'), (2, 'd'), (3, 'u'), (5, 'e'), (6, 'k'), (7, 'a'), (4, 'r')])\n"
     ]
    }
   ],
   "source": [
    "print(od.keys())\n",
    "\n",
    "print(od.values())\n",
    "\n",
    "#move to end\n",
    "\n",
    "od.move_to_end(4)\n",
    "print(od)"
   ]
  },
  {
   "cell_type": "code",
   "execution_count": 24,
   "id": "1144e814",
   "metadata": {},
   "outputs": [
    {
     "name": "stdout",
     "output_type": "stream",
     "text": [
      "OrderedDict([(4, 'r'), (1, 'e'), (2, 'd'), (3, 'u'), (5, 'e'), (6, 'k'), (7, 'a')])\n"
     ]
    }
   ],
   "source": [
    "#move to the beginning\n",
    "\n",
    "od.move_to_end(4, last=False)\n",
    "print(od)"
   ]
  },
  {
   "cell_type": "markdown",
   "id": "63ededd1",
   "metadata": {},
   "source": [
    "### defaultdict\n",
    "\n",
    "It is a dictionary subclass which calls a factory function to supply missing values. \n",
    "In general, it does not throw any errors when a missing key value is called in a dictionary.\n",
    "`"
   ]
  },
  {
   "cell_type": "code",
   "execution_count": 27,
   "id": "75785bc1",
   "metadata": {},
   "outputs": [
    {
     "name": "stdout",
     "output_type": "stream",
     "text": [
      "edureka\n"
     ]
    }
   ],
   "source": [
    "from collections import defaultdict\n",
    "d = defaultdict(int)\n",
    "#we have to specify a type as well.\n",
    "d['a'] = 'edureka'\n",
    "d['b'] = 'python'\n",
    "print(d['a'])\n"
   ]
  },
  {
   "cell_type": "code",
   "execution_count": null,
   "id": "95111f9d",
   "metadata": {},
   "outputs": [],
   "source": [
    "d ={}"
   ]
  },
  {
   "cell_type": "markdown",
   "id": "dd647038",
   "metadata": {},
   "source": [
    "### userDict()\n",
    "The UserDict module\n",
    "This module contains a dictionary class which can be subclassed \n",
    "(it’s actually a Python wrapper for the built-in dictionary type).\n",
    "\n",
    "The following example shows an enhanced dictionary class, which \n",
    "allows dictionaries to be ‘added’ to each other, and be initialized using the keyword argument syntax.\n"
   ]
  },
  {
   "cell_type": "code",
   "execution_count": 2,
   "id": "4c047495",
   "metadata": {},
   "outputs": [
    {
     "name": "stdout",
     "output_type": "stream",
     "text": [
      "{'a': 1, 'b': 2, 'c': 3}\n",
      "{}\n"
     ]
    }
   ],
   "source": [
    "from collections import UserDict\n",
    " \n",
    "d = {'a':1,\n",
    "    'b': 2,\n",
    "    'c': 3}\n",
    " \n",
    "# Creating an UserDict\n",
    "userD = UserDict(d)\n",
    "print(userD.data)\n",
    " \n",
    "# Creating an empty UserDict\n",
    "userD = UserDict()\n",
    "print(userD.data)"
   ]
  },
  {
   "cell_type": "code",
   "execution_count": null,
   "id": "64fa5e52",
   "metadata": {},
   "outputs": [],
   "source": [
    "userList()\n",
    "The UserList module\n",
    "\n",
    "This module contains a list class which can be subclassed \n",
    "(simply a Python wrapper for the built-in list type).\n",
    "\n",
    "In the following example, AutoList instances work just like ordinary lists, \n",
    "except that they allow you to insert items at the end by assigning to it. "
   ]
  },
  {
   "cell_type": "code",
   "execution_count": 3,
   "id": "cba79f67",
   "metadata": {},
   "outputs": [
    {
     "name": "stdout",
     "output_type": "stream",
     "text": [
      "[1, 2, 3, 4]\n",
      "[]\n"
     ]
    }
   ],
   "source": [
    "from collections import UserList\n",
    " \n",
    "L = [1, 2, 3, 4]\n",
    " \n",
    "# Creating a userlist\n",
    "userL = UserList(L)\n",
    "print(userL.data)\n",
    " \n",
    "# Creating empty userlist\n",
    "userL = UserList()\n",
    "print(userL.data)"
   ]
  },
  {
   "cell_type": "code",
   "execution_count": 8,
   "id": "ffe5ceb9",
   "metadata": {},
   "outputs": [
    {
     "name": "stdout",
     "output_type": "stream",
     "text": [
      "[0, 1, 2, 3, 4, 5, 6, 7, 8, 9]\n"
     ]
    }
   ],
   "source": [
    "from collections import UserList\n",
    "\n",
    "class AutoList(UserList): #list []\n",
    "    # list =[]\n",
    "    def __setitem__(self, i, n):\n",
    "        if i == len(self.data):\n",
    "            self.data.append(n)\n",
    "        else:\n",
    "            self.data[i] = n\n",
    "\n",
    "list = AutoList()\n",
    "\n",
    "for i in range(10):\n",
    "    list[i] = i\n",
    "\n",
    "print (list)"
   ]
  },
  {
   "cell_type": "code",
   "execution_count": 5,
   "id": "46e06b83",
   "metadata": {},
   "outputs": [
    {
     "name": "stdout",
     "output_type": "stream",
     "text": [
      "[0, 1]\n"
     ]
    }
   ],
   "source": [
    "list = []\n",
    "list.append(0)\n",
    "list.append(1)\n",
    "print(list)"
   ]
  },
  {
   "cell_type": "code",
   "execution_count": null,
   "id": "3a462c60",
   "metadata": {},
   "outputs": [],
   "source": [
    "This class acts as a wrapper class around the string objects. \n",
    "This class is useful when one wants to create a string of their \n",
    "own with some modified functionality or with some new functionality. \n",
    "It can be considered as a way of adding new behaviors for the string. \n",
    "This class takes any argument that can be converted to string and simulates a string whose content is kept in a regular string.\n",
    "The string is accessible by the data attribute of this class."
   ]
  },
  {
   "cell_type": "code",
   "execution_count": 11,
   "id": "603eeb19",
   "metadata": {},
   "outputs": [
    {
     "name": "stdout",
     "output_type": "stream",
     "text": [
      "12344\n",
      "Abi\n"
     ]
    }
   ],
   "source": [
    "from collections import UserString\n",
    "  \n",
    "d = 12344\n",
    "  \n",
    "# Creating an UserString\n",
    "userS = UserString(d)\n",
    "print(userS.data)\n",
    "  \n",
    "# Creating an empty UserString\n",
    "userS = UserString(\"Abi\")\n",
    "print(userS.data)"
   ]
  },
  {
   "cell_type": "code",
   "execution_count": 12,
   "id": "92295a9d",
   "metadata": {},
   "outputs": [
    {
     "ename": "FileNotFoundError",
     "evalue": "[Errno 2] No such file or directory: 'book.txt'",
     "output_type": "error",
     "traceback": [
      "\u001b[1;31m---------------------------------------------------------------------------\u001b[0m",
      "\u001b[1;31mFileNotFoundError\u001b[0m                         Traceback (most recent call last)",
      "\u001b[1;32m<ipython-input-12-f8294ccee423>\u001b[0m in \u001b[0;36m<module>\u001b[1;34m\u001b[0m\n\u001b[0;32m     12\u001b[0m         \u001b[0mself\u001b[0m\u001b[1;33m.\u001b[0m\u001b[0mdata\u001b[0m \u001b[1;33m=\u001b[0m \u001b[0mself\u001b[0m\u001b[1;33m.\u001b[0m\u001b[0mdata\u001b[0m\u001b[1;33m.\u001b[0m\u001b[0mreplace\u001b[0m\u001b[1;33m(\u001b[0m\u001b[0ms\u001b[0m\u001b[1;33m,\u001b[0m \u001b[1;34m\"\"\u001b[0m\u001b[1;33m)\u001b[0m\u001b[1;33m\u001b[0m\u001b[1;33m\u001b[0m\u001b[0m\n\u001b[0;32m     13\u001b[0m \u001b[1;33m\u001b[0m\u001b[0m\n\u001b[1;32m---> 14\u001b[1;33m \u001b[0mfile\u001b[0m \u001b[1;33m=\u001b[0m \u001b[0mopen\u001b[0m\u001b[1;33m(\u001b[0m\u001b[1;34m\"book.txt\"\u001b[0m\u001b[1;33m,\u001b[0m \u001b[1;34m\"r\"\u001b[0m\u001b[1;33m)\u001b[0m\u001b[1;33m\u001b[0m\u001b[1;33m\u001b[0m\u001b[0m\n\u001b[0m\u001b[0;32m     15\u001b[0m \u001b[0mtext\u001b[0m \u001b[1;33m=\u001b[0m \u001b[0mfile\u001b[0m\u001b[1;33m.\u001b[0m\u001b[0mread\u001b[0m\u001b[1;33m(\u001b[0m\u001b[1;33m)\u001b[0m\u001b[1;33m\u001b[0m\u001b[1;33m\u001b[0m\u001b[0m\n\u001b[0;32m     16\u001b[0m \u001b[0mfile\u001b[0m\u001b[1;33m.\u001b[0m\u001b[0mclose\u001b[0m\u001b[1;33m(\u001b[0m\u001b[1;33m)\u001b[0m\u001b[1;33m\u001b[0m\u001b[1;33m\u001b[0m\u001b[0m\n",
      "\u001b[1;31mFileNotFoundError\u001b[0m: [Errno 2] No such file or directory: 'book.txt'"
     ]
    }
   ],
   "source": [
    "from collections import UserString\n",
    "\n",
    "class MyString(UserString):\n",
    "\n",
    "    def append(self, s):\n",
    "        self.data = self.data + s\n",
    "\n",
    "    def insert(self, index, s):\n",
    "        self.data = self.data[index:] + s + self.data[index:]\n",
    "\n",
    "    def remove(self, s):\n",
    "        self.data = self.data.replace(s, \"\")\n",
    "\n",
    "file = open(\"book.txt\", \"r\")\n",
    "text = file.read()\n",
    "file.close()\n",
    "\n",
    "book = MyString(text)\n",
    "\n",
    "for bird in [\"gannet\", \"robin\", \"nuthatch\"]:\n",
    "    book.remove(bird)\n",
    "\n",
    "print (book)"
   ]
  }
 ],
 "metadata": {
  "kernelspec": {
   "display_name": "Python 3",
   "language": "python",
   "name": "python3"
  },
  "language_info": {
   "codemirror_mode": {
    "name": "ipython",
    "version": 3
   },
   "file_extension": ".py",
   "mimetype": "text/x-python",
   "name": "python",
   "nbconvert_exporter": "python",
   "pygments_lexer": "ipython3",
   "version": "3.8.8"
  }
 },
 "nbformat": 4,
 "nbformat_minor": 5
}
